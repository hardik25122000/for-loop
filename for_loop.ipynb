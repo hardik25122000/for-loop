{
  "nbformat": 4,
  "nbformat_minor": 0,
  "metadata": {
    "colab": {
      "provenance": []
    },
    "kernelspec": {
      "name": "python3",
      "display_name": "Python 3"
    },
    "language_info": {
      "name": "python"
    }
  },
  "cells": [
    {
      "cell_type": "code",
      "execution_count": 1,
      "metadata": {
        "id": "3VbUK7WwKB3y"
      },
      "outputs": [],
      "source": [
        "#Write a Python program to print the numbers from 1 to 10 using a `for` loop."
      ]
    },
    {
      "cell_type": "code",
      "source": [
        "for i in range(1, 11):\n",
        "    print(i)\n"
      ],
      "metadata": {
        "colab": {
          "base_uri": "https://localhost:8080/"
        },
        "id": "6m7G_mgLKQ0_",
        "outputId": "8d9695d5-f9df-4ad3-b9bf-9a42fc4b89cd"
      },
      "execution_count": 2,
      "outputs": [
        {
          "output_type": "stream",
          "name": "stdout",
          "text": [
            "1\n",
            "2\n",
            "3\n",
            "4\n",
            "5\n",
            "6\n",
            "7\n",
            "8\n",
            "9\n",
            "10\n"
          ]
        }
      ]
    },
    {
      "cell_type": "code",
      "source": [
        "#Create a program that calculates the sum of all numbers in a list using a `for` loop."
      ],
      "metadata": {
        "id": "3W5bjlBRKceJ"
      },
      "execution_count": 3,
      "outputs": []
    },
    {
      "cell_type": "code",
      "source": [
        "# Define a list of numbers\n",
        "numbers = [1, 2, 3, 4, 5]\n",
        "\n",
        "# Initialize a variable to store the sum\n",
        "total_sum = 0\n",
        "\n",
        "# Iterate through the list using a for loop\n",
        "for num in numbers:\n",
        "    total_sum += num  # Add each number to the total sum\n",
        "\n",
        "# Print the sum\n",
        "print(\"The sum of all numbers in the list is:\", total_sum)\n"
      ],
      "metadata": {
        "colab": {
          "base_uri": "https://localhost:8080/"
        },
        "id": "Shc-w9PVKgwM",
        "outputId": "cb0d2531-9e4a-4ce3-9c48-0decc6891307"
      },
      "execution_count": 4,
      "outputs": [
        {
          "output_type": "stream",
          "name": "stdout",
          "text": [
            "The sum of all numbers in the list is: 15\n"
          ]
        }
      ]
    },
    {
      "cell_type": "code",
      "source": [
        "#Write a program to print the characters of a string in reverse order using a `for` loop."
      ],
      "metadata": {
        "id": "DJSmg2PEKoCB"
      },
      "execution_count": 5,
      "outputs": []
    },
    {
      "cell_type": "code",
      "source": [
        "# Define the string\n",
        "string = \"Hello, World!\"\n",
        "\n",
        "# Iterate through the string in reverse using a for loop\n",
        "for i in range(len(string) - 1, -1, -1):\n",
        "    print(string[i], end=\"\")\n",
        "\n",
        "# Alternatively, you can use a simpler for loop like this:\n",
        "# for char in reversed(string):\n",
        "#     print(char, end=\"\")\n"
      ],
      "metadata": {
        "colab": {
          "base_uri": "https://localhost:8080/"
        },
        "id": "KHqRETQFKr4O",
        "outputId": "3b3a2407-a4ee-4dff-c902-58e8bfb7a8bd"
      },
      "execution_count": 6,
      "outputs": [
        {
          "output_type": "stream",
          "name": "stdout",
          "text": [
            "!dlroW ,olleH"
          ]
        }
      ]
    },
    {
      "cell_type": "code",
      "source": [
        "#Develop a program that finds the factorial of a given number using a `for` loop."
      ],
      "metadata": {
        "id": "R5-Dus1QKwtc"
      },
      "execution_count": 7,
      "outputs": []
    },
    {
      "cell_type": "code",
      "source": [
        "# Function to calculate factorial\n",
        "def factorial(n):\n",
        "    # Initialize result to 1\n",
        "    result = 1\n",
        "\n",
        "    # Iterate from 1 to n (inclusive) using a for loop\n",
        "    for i in range(1, n + 1):\n",
        "        # Multiply result by current value of i\n",
        "        result *= i\n",
        "\n",
        "    return result\n",
        "\n",
        "# Input the number\n",
        "num = int(input(\"Enter a number to find its factorial: \"))\n",
        "\n",
        "# Calculate factorial using the factorial function\n",
        "fact = factorial(num)\n",
        "\n",
        "# Print the factorial\n",
        "print(\"Factorial of\", num, \"is:\", fact)\n"
      ],
      "metadata": {
        "colab": {
          "base_uri": "https://localhost:8080/"
        },
        "id": "d1OcrK9xK0Xt",
        "outputId": "c697e498-6438-46a0-ed44-a3f0ceb5bfd8"
      },
      "execution_count": 8,
      "outputs": [
        {
          "output_type": "stream",
          "name": "stdout",
          "text": [
            "Enter a number to find its factorial: 20\n",
            "Factorial of 20 is: 2432902008176640000\n"
          ]
        }
      ]
    },
    {
      "cell_type": "code",
      "source": [
        "#Create a program to print the multiplication table of a given number using a `for` loop."
      ],
      "metadata": {
        "id": "UuwlU84TK6f5"
      },
      "execution_count": 9,
      "outputs": []
    },
    {
      "cell_type": "code",
      "source": [
        "# Function to print multiplication table\n",
        "def multiplication_table(number):\n",
        "    print(\"Multiplication table for\", number, \":\")\n",
        "    for i in range(1, 11):\n",
        "        print(number, \"x\", i, \"=\", number * i)\n",
        "\n",
        "# Input the number\n",
        "num = int(input(\"Enter a number to print its multiplication table: \"))\n",
        "\n",
        "# Print the multiplication table using the function\n",
        "multiplication_table(num)\n"
      ],
      "metadata": {
        "colab": {
          "base_uri": "https://localhost:8080/"
        },
        "id": "vqrIOG8WK__I",
        "outputId": "b12b872c-b7b6-4372-a6ad-6a9886f6c4cf"
      },
      "execution_count": 10,
      "outputs": [
        {
          "output_type": "stream",
          "name": "stdout",
          "text": [
            "Enter a number to print its multiplication table: 12\n",
            "Multiplication table for 12 :\n",
            "12 x 1 = 12\n",
            "12 x 2 = 24\n",
            "12 x 3 = 36\n",
            "12 x 4 = 48\n",
            "12 x 5 = 60\n",
            "12 x 6 = 72\n",
            "12 x 7 = 84\n",
            "12 x 8 = 96\n",
            "12 x 9 = 108\n",
            "12 x 10 = 120\n"
          ]
        }
      ]
    },
    {
      "cell_type": "code",
      "source": [
        "#Write a program that counts the number of even and odd numbers in a list using a `for` loop."
      ],
      "metadata": {
        "id": "zbIgek04LGFv"
      },
      "execution_count": 11,
      "outputs": []
    },
    {
      "cell_type": "code",
      "source": [
        "# Define the list of numbers\n",
        "numbers = [1, 2, 3, 4, 5, 6, 7, 8, 9, 10]\n",
        "\n",
        "# Initialize counters for even and odd numbers\n",
        "even_count = 0\n",
        "odd_count = 0\n",
        "\n",
        "# Iterate through the list using a for loop\n",
        "for num in numbers:\n",
        "    if num % 2 == 0:\n",
        "        even_count += 1\n",
        "    else:\n",
        "        odd_count += 1\n",
        "\n",
        "# Print the counts\n",
        "print(\"Number of even numbers:\", even_count)\n",
        "print(\"Number of odd numbers:\", odd_count)\n",
        "\n"
      ],
      "metadata": {
        "colab": {
          "base_uri": "https://localhost:8080/"
        },
        "id": "8SeE1oHVLLSe",
        "outputId": "e5e01a73-bbfb-4c6d-ffd8-36db8c930265"
      },
      "execution_count": 13,
      "outputs": [
        {
          "output_type": "stream",
          "name": "stdout",
          "text": [
            "Number of even numbers: 5\n",
            "Number of odd numbers: 5\n"
          ]
        }
      ]
    },
    {
      "cell_type": "code",
      "source": [
        "#Develop a program that prints the squares of numbers from 1 to 5 using a `for` loop."
      ],
      "metadata": {
        "id": "r3fW5K2BLQ9_"
      },
      "execution_count": 14,
      "outputs": []
    },
    {
      "cell_type": "code",
      "source": [
        "# Iterate through numbers from 1 to 5 using a for loop\n",
        "for i in range(1, 6):\n",
        "    # Calculate the square of the current number\n",
        "    square = i * i\n",
        "    # Print the square\n",
        "    print(f\"The square of {i} is: {square}\")\n"
      ],
      "metadata": {
        "colab": {
          "base_uri": "https://localhost:8080/"
        },
        "id": "ua5rvNw5LlcW",
        "outputId": "3f03f3e5-0ca5-4359-b159-d8118b36ec93"
      },
      "execution_count": 15,
      "outputs": [
        {
          "output_type": "stream",
          "name": "stdout",
          "text": [
            "The square of 1 is: 1\n",
            "The square of 2 is: 4\n",
            "The square of 3 is: 9\n",
            "The square of 4 is: 16\n",
            "The square of 5 is: 25\n"
          ]
        }
      ]
    },
    {
      "cell_type": "code",
      "source": [
        "#Create a program to find the length of a string without using the `len()` function."
      ],
      "metadata": {
        "id": "0Aq2FbNmLrBU"
      },
      "execution_count": 16,
      "outputs": []
    },
    {
      "cell_type": "code",
      "source": [
        "# Function to find the length of a string\n",
        "def find_length(string):\n",
        "    length = 0\n",
        "    for char in string:\n",
        "        length += 1\n",
        "    return length\n",
        "\n",
        "# Input the string\n",
        "input_string = input(\"Enter a string: \")\n",
        "\n",
        "# Find the length of the string using the function\n",
        "length = find_length(input_string)\n",
        "\n",
        "# Print the length of the string\n",
        "print(\"Length of the string:\", length)\n"
      ],
      "metadata": {
        "colab": {
          "base_uri": "https://localhost:8080/"
        },
        "id": "9zFFYDzgLuib",
        "outputId": "1b0113e7-61fa-4d73-af61-6882ad780d68"
      },
      "execution_count": 17,
      "outputs": [
        {
          "output_type": "stream",
          "name": "stdout",
          "text": [
            "Enter a string: my name is khan\n",
            "Length of the string: 15\n"
          ]
        }
      ]
    },
    {
      "cell_type": "code",
      "source": [
        "#Write a program that calculates the average of a list of numbers using a `for` loop."
      ],
      "metadata": {
        "id": "ANVofNShLzoE"
      },
      "execution_count": 18,
      "outputs": []
    },
    {
      "cell_type": "code",
      "source": [
        "# Define the list of numbers\n",
        "numbers = [3, 7, 5, 12, 9]\n",
        "\n",
        "# Initialize variables for sum and count\n",
        "total = 0\n",
        "count = 0\n",
        "\n",
        "# Iterate through the list using a for loop\n",
        "for num in numbers:\n",
        "    total += num  # Add each number to the total sum\n",
        "    count += 1    # Increment count for each number\n",
        "\n",
        "# Calculate the average\n",
        "average = total / count\n",
        "\n",
        "# Print the average\n",
        "print(\"The average of the list is:\", average)\n"
      ],
      "metadata": {
        "colab": {
          "base_uri": "https://localhost:8080/"
        },
        "id": "4IOajIKZMBKb",
        "outputId": "204004f0-e78a-4f36-a10e-f3ebb77c5a4a"
      },
      "execution_count": 19,
      "outputs": [
        {
          "output_type": "stream",
          "name": "stdout",
          "text": [
            "The average of the list is: 7.2\n"
          ]
        }
      ]
    },
    {
      "cell_type": "code",
      "source": [
        "#Develop a program that prints the first `n` Fibonacci numbers using a `for` loop."
      ],
      "metadata": {
        "id": "L4qXo4EEMGuS"
      },
      "execution_count": 20,
      "outputs": []
    },
    {
      "cell_type": "code",
      "source": [
        "def fibonacci(n):\n",
        "    # Initialize first two Fibonacci numbers\n",
        "    fib_sequence = [0, 1]\n",
        "\n",
        "    # Calculate and append next Fibonacci numbers using a for loop\n",
        "    for i in range(2, n):\n",
        "        next_fib = fib_sequence[i - 1] + fib_sequence[i - 2]\n",
        "        fib_sequence.append(next_fib)\n",
        "\n",
        "    return fib_sequence\n",
        "\n",
        "# Input the number of Fibonacci numbers to print\n",
        "n = int(input(\"Enter the number of Fibonacci numbers to print: \"))\n",
        "\n",
        "# Call the function to get the first n Fibonacci numbers\n",
        "fib_numbers = fibonacci(n)\n",
        "\n",
        "# Print the Fibonacci numbers\n",
        "print(\"First\", n, \"Fibonacci numbers:\")\n",
        "for fib_number in fib_numbers:\n",
        "    print(fib_number, end=\" \")\n"
      ],
      "metadata": {
        "colab": {
          "base_uri": "https://localhost:8080/"
        },
        "id": "JBalIqYjMMhX",
        "outputId": "10c79407-df0a-43e3-e2bf-62bfffb8bfe4"
      },
      "execution_count": 21,
      "outputs": [
        {
          "output_type": "stream",
          "name": "stdout",
          "text": [
            "Enter the number of Fibonacci numbers to print: 36\n",
            "First 36 Fibonacci numbers:\n",
            "0 1 1 2 3 5 8 13 21 34 55 89 144 233 377 610 987 1597 2584 4181 6765 10946 17711 28657 46368 75025 121393 196418 317811 514229 832040 1346269 2178309 3524578 5702887 9227465 "
          ]
        }
      ]
    },
    {
      "cell_type": "code",
      "source": [
        "#Write a program to check if a given list contains any duplicates using a `for` loop."
      ],
      "metadata": {
        "id": "jkxlmCMCMSho"
      },
      "execution_count": 22,
      "outputs": []
    },
    {
      "cell_type": "code",
      "source": [
        "# Function to check for duplicates in a list\n",
        "def has_duplicates(lst):\n",
        "    # Create an empty set to store unique elements\n",
        "    seen = set()\n",
        "    # Iterate through the list using a for loop\n",
        "    for item in lst:\n",
        "        # If the element is already in the set, it's a duplicate\n",
        "        if item in seen:\n",
        "            return True\n",
        "        # Otherwise, add it to the set\n",
        "        seen.add(item)\n",
        "    # If no duplicates are found, return False\n",
        "    return False\n",
        "\n",
        "# Test the function\n",
        "numbers1 = [1, 2, 3, 4, 5]\n",
        "numbers2 = [1, 2, 3, 4, 1]\n",
        "\n",
        "print(\"List 1 contains duplicates:\", has_duplicates(numbers1))\n",
        "print(\"List 2 contains duplicates:\", has_duplicates(numbers2))\n"
      ],
      "metadata": {
        "colab": {
          "base_uri": "https://localhost:8080/"
        },
        "id": "UrswRGEKMZW-",
        "outputId": "6d40e253-9390-4a51-a18a-e1da7f377858"
      },
      "execution_count": 23,
      "outputs": [
        {
          "output_type": "stream",
          "name": "stdout",
          "text": [
            "List 1 contains duplicates: False\n",
            "List 2 contains duplicates: True\n"
          ]
        }
      ]
    },
    {
      "cell_type": "code",
      "source": [
        "#Create a program that prints the prime numbers in a given range using a `for` loop."
      ],
      "metadata": {
        "id": "Ai9D7uwNMeGl"
      },
      "execution_count": 24,
      "outputs": []
    },
    {
      "cell_type": "code",
      "source": [
        "# Function to check if a number is prime\n",
        "def is_prime(num):\n",
        "    if num <= 1:\n",
        "        return False\n",
        "    for i in range(2, int(num**0.5) + 1):\n",
        "        if num % i == 0:\n",
        "            return False\n",
        "    return True\n",
        "\n",
        "# Function to print prime numbers in a range\n",
        "def print_primes(start, end):\n",
        "    print(\"Prime numbers in the range\", start, \"to\", end, \"are:\")\n",
        "    for num in range(start, end + 1):\n",
        "        if is_prime(num):\n",
        "            print(num, end=\" \")\n",
        "\n",
        "# Input the range from the user\n",
        "start = int(input(\"Enter the starting number of the range: \"))\n",
        "end = int(input(\"Enter the ending number of the range: \"))\n",
        "\n",
        "# Call the function to print prime numbers in the given range\n",
        "print_primes(start, end)\n"
      ],
      "metadata": {
        "colab": {
          "base_uri": "https://localhost:8080/"
        },
        "id": "PZ3-rFj1MlQk",
        "outputId": "112478db-fb51-43e2-da09-4109f4420665"
      },
      "execution_count": 25,
      "outputs": [
        {
          "output_type": "stream",
          "name": "stdout",
          "text": [
            "Enter the starting number of the range: 1\n",
            "Enter the ending number of the range: 6\n",
            "Prime numbers in the range 1 to 6 are:\n",
            "2 3 5 "
          ]
        }
      ]
    },
    {
      "cell_type": "code",
      "source": [
        "#Develop a program that counts the number of vowels in a string using a `for` loop."
      ],
      "metadata": {
        "id": "fPbv1JV9MrC3"
      },
      "execution_count": 26,
      "outputs": []
    },
    {
      "cell_type": "code",
      "source": [
        "# Function to count the number of vowels in a string\n",
        "def count_vowels(input_string):\n",
        "    vowels = \"aeiouAEIOU\"\n",
        "    count = 0\n",
        "    for char in input_string:\n",
        "        if char in vowels:\n",
        "            count += 1\n",
        "    return count\n",
        "\n",
        "# Input the string\n",
        "input_string = input(\"Enter a string: \")\n",
        "\n",
        "# Call the function to count vowels\n",
        "vowel_count = count_vowels(input_string)\n",
        "\n",
        "# Print the count of vowels\n",
        "print(\"Number of vowels in the string:\", vowel_count)\n"
      ],
      "metadata": {
        "colab": {
          "base_uri": "https://localhost:8080/"
        },
        "id": "nT9o1r1zM2bG",
        "outputId": "ade3f31f-b166-41b5-8cf9-2d6d9ae15439"
      },
      "execution_count": 27,
      "outputs": [
        {
          "output_type": "stream",
          "name": "stdout",
          "text": [
            "Enter a string: game is open\n",
            "Number of vowels in the string: 5\n"
          ]
        }
      ]
    },
    {
      "cell_type": "code",
      "source": [
        "#Write a program to find the maximum element in a 2D list using a nested `for` loop."
      ],
      "metadata": {
        "id": "EGvtwgBwM7X4"
      },
      "execution_count": 28,
      "outputs": []
    },
    {
      "cell_type": "code",
      "source": [
        "# Sample 2D list\n",
        "matrix = [\n",
        "    [1, 2, 3],\n",
        "    [4, 5, 6],\n",
        "    [7, 8, 9]\n",
        "]\n",
        "\n",
        "# Initialize maximum element to the first element of the list\n",
        "max_element = matrix[0][0]\n",
        "\n",
        "# Iterate through the 2D list using nested for loops\n",
        "for row in matrix:\n",
        "    for element in row:\n",
        "        if element > max_element:\n",
        "            max_element = element\n",
        "\n",
        "# Print the maximum element\n",
        "print(\"Maximum element in the 2D list:\", max_element)\n"
      ],
      "metadata": {
        "colab": {
          "base_uri": "https://localhost:8080/"
        },
        "id": "f9KismcWNIVy",
        "outputId": "cfce911f-308d-4ccd-8044-bd6d12d69ac8"
      },
      "execution_count": 29,
      "outputs": [
        {
          "output_type": "stream",
          "name": "stdout",
          "text": [
            "Maximum element in the 2D list: 9\n"
          ]
        }
      ]
    },
    {
      "cell_type": "code",
      "source": [
        "#Create a program that removes all occurrences of a specific element from a list using a `for` loop."
      ],
      "metadata": {
        "id": "EWp8M9K7NNnA"
      },
      "execution_count": 30,
      "outputs": []
    },
    {
      "cell_type": "code",
      "source": [
        "# Function to remove all occurrences of a specific element from a list\n",
        "def remove_element(lst, element):\n",
        "    # Iterate through the list using a for loop in reverse order\n",
        "    for i in range(len(lst) - 1, -1, -1):\n",
        "        if lst[i] == element:\n",
        "            # Remove the element if it matches the specified element\n",
        "            del lst[i]\n",
        "\n",
        "# Sample list\n",
        "my_list = [1, 2, 3, 4, 2, 5, 2]\n",
        "\n",
        "# Element to remove\n",
        "element_to_remove = 2\n",
        "\n",
        "# Call the function to remove all occurrences of the specified element\n",
        "remove_element(my_list, element_to_remove)\n",
        "\n",
        "# Print the updated list\n",
        "print(\"List after removing all occurrences of\", element_to_remove, \":\", my_list)\n"
      ],
      "metadata": {
        "colab": {
          "base_uri": "https://localhost:8080/"
        },
        "id": "5Zy_06xCNSvk",
        "outputId": "669a973a-4a31-4add-f881-20ee293bbbb1"
      },
      "execution_count": 31,
      "outputs": [
        {
          "output_type": "stream",
          "name": "stdout",
          "text": [
            "List after removing all occurrences of 2 : [1, 3, 4, 5]\n"
          ]
        }
      ]
    },
    {
      "cell_type": "code",
      "source": [
        "#Develop a program that generates a multiplication table for numbers from 1 to 5 using a nested `for` loop."
      ],
      "metadata": {
        "id": "1PmsUwMmNXVi"
      },
      "execution_count": 32,
      "outputs": []
    },
    {
      "cell_type": "code",
      "source": [
        "# Define the range of numbers for the multiplication table\n",
        "start = 1\n",
        "end = 5\n",
        "\n",
        "# Iterate through each number in the range using a nested for loop\n",
        "for i in range(start, end + 1):\n",
        "    print(f\"Multiplication table for {i}:\")\n",
        "    for j in range(1, 11):\n",
        "        result = i * j\n",
        "        print(f\"{i} x {j} = {result}\")\n",
        "    print()  # Add a blank line after each table for clarity\n"
      ],
      "metadata": {
        "colab": {
          "base_uri": "https://localhost:8080/"
        },
        "id": "xKH1i0aPNfRW",
        "outputId": "9304cc35-275b-4e5d-ad85-42487136eea0"
      },
      "execution_count": 33,
      "outputs": [
        {
          "output_type": "stream",
          "name": "stdout",
          "text": [
            "Multiplication table for 1:\n",
            "1 x 1 = 1\n",
            "1 x 2 = 2\n",
            "1 x 3 = 3\n",
            "1 x 4 = 4\n",
            "1 x 5 = 5\n",
            "1 x 6 = 6\n",
            "1 x 7 = 7\n",
            "1 x 8 = 8\n",
            "1 x 9 = 9\n",
            "1 x 10 = 10\n",
            "\n",
            "Multiplication table for 2:\n",
            "2 x 1 = 2\n",
            "2 x 2 = 4\n",
            "2 x 3 = 6\n",
            "2 x 4 = 8\n",
            "2 x 5 = 10\n",
            "2 x 6 = 12\n",
            "2 x 7 = 14\n",
            "2 x 8 = 16\n",
            "2 x 9 = 18\n",
            "2 x 10 = 20\n",
            "\n",
            "Multiplication table for 3:\n",
            "3 x 1 = 3\n",
            "3 x 2 = 6\n",
            "3 x 3 = 9\n",
            "3 x 4 = 12\n",
            "3 x 5 = 15\n",
            "3 x 6 = 18\n",
            "3 x 7 = 21\n",
            "3 x 8 = 24\n",
            "3 x 9 = 27\n",
            "3 x 10 = 30\n",
            "\n",
            "Multiplication table for 4:\n",
            "4 x 1 = 4\n",
            "4 x 2 = 8\n",
            "4 x 3 = 12\n",
            "4 x 4 = 16\n",
            "4 x 5 = 20\n",
            "4 x 6 = 24\n",
            "4 x 7 = 28\n",
            "4 x 8 = 32\n",
            "4 x 9 = 36\n",
            "4 x 10 = 40\n",
            "\n",
            "Multiplication table for 5:\n",
            "5 x 1 = 5\n",
            "5 x 2 = 10\n",
            "5 x 3 = 15\n",
            "5 x 4 = 20\n",
            "5 x 5 = 25\n",
            "5 x 6 = 30\n",
            "5 x 7 = 35\n",
            "5 x 8 = 40\n",
            "5 x 9 = 45\n",
            "5 x 10 = 50\n",
            "\n"
          ]
        }
      ]
    },
    {
      "cell_type": "code",
      "source": [
        "#Write a program that converts a list of Fahrenheit temperatures to Celsius using a `for` loop."
      ],
      "metadata": {
        "id": "x6IVq7YRNjHu"
      },
      "execution_count": 34,
      "outputs": []
    },
    {
      "cell_type": "code",
      "source": [
        "# Function to convert Fahrenheit to Celsius\n",
        "def fahrenheit_to_celsius(fahrenheit):\n",
        "    return (fahrenheit - 32) * 5 / 9\n",
        "\n",
        "# List of Fahrenheit temperatures\n",
        "fahrenheit_temperatures = [32, 68, 77, 104, 212]\n",
        "\n",
        "# Iterate through the list using a for loop and convert each temperature to Celsius\n",
        "celsius_temperatures = []\n",
        "for temp in fahrenheit_temperatures:\n",
        "    celsius_temperatures.append(fahrenheit_to_celsius(temp))\n",
        "\n",
        "# Print the converted temperatures\n",
        "print(\"Fahrenheit Temperatures:\", fahrenheit_temperatures)\n",
        "print(\"Celsius Temperatures:\", celsius_temperatures)\n"
      ],
      "metadata": {
        "colab": {
          "base_uri": "https://localhost:8080/"
        },
        "id": "zQsh-fkPNpW4",
        "outputId": "cc4ebe7e-2e73-4176-ebba-b3096f0e4317"
      },
      "execution_count": 35,
      "outputs": [
        {
          "output_type": "stream",
          "name": "stdout",
          "text": [
            "Fahrenheit Temperatures: [32, 68, 77, 104, 212]\n",
            "Celsius Temperatures: [0.0, 20.0, 25.0, 40.0, 100.0]\n"
          ]
        }
      ]
    },
    {
      "cell_type": "code",
      "source": [
        "#Create a program to print the common elements from two lists using a `for` loop."
      ],
      "metadata": {
        "id": "UqIs_bw2Nuka"
      },
      "execution_count": 36,
      "outputs": []
    },
    {
      "cell_type": "code",
      "source": [
        "# Function to print common elements from two lists\n",
        "def find_common_elements(list1, list2):\n",
        "    common_elements = []\n",
        "    for item1 in list1:\n",
        "        if item1 in list2:\n",
        "            common_elements.append(item1)\n",
        "    return common_elements\n",
        "\n",
        "# Sample lists\n",
        "list1 = [1, 2, 3, 4, 5]\n",
        "list2 = [4, 5, 6, 7, 8]\n",
        "\n",
        "# Find and print common elements\n",
        "common_elements = find_common_elements(list1, list2)\n",
        "print(\"Common elements:\", common_elements)\n"
      ],
      "metadata": {
        "colab": {
          "base_uri": "https://localhost:8080/"
        },
        "id": "Pxe49AqYNzqp",
        "outputId": "4b16dd91-2c85-4d6e-9da2-73a9f26dfd44"
      },
      "execution_count": 37,
      "outputs": [
        {
          "output_type": "stream",
          "name": "stdout",
          "text": [
            "Common elements: [4, 5]\n"
          ]
        }
      ]
    },
    {
      "cell_type": "code",
      "source": [
        "#Develop a program that prints the pattern of right-angled triangles using a `for` loop. Use ‘*’ to draw the pattern"
      ],
      "metadata": {
        "id": "TRrsmOqUO-aW"
      },
      "execution_count": 39,
      "outputs": []
    },
    {
      "cell_type": "code",
      "source": [
        "# Function to print right-angled triangle pattern\n",
        "def print_right_angled_triangle(rows):\n",
        "    for i in range(1, rows + 1):\n",
        "        print('*' * i)\n",
        "\n",
        "# Input the number of rows for the triangle\n",
        "num_rows = int(input(\"Enter the number of rows for the triangle: \"))\n",
        "\n",
        "# Call the function to print the pattern\n",
        "print_right_angled_triangle(num_rows)\n"
      ],
      "metadata": {
        "colab": {
          "base_uri": "https://localhost:8080/"
        },
        "id": "Hp7a1-BRPDG1",
        "outputId": "2bcb03fd-545d-4113-e1c6-a0eab9d2903d"
      },
      "execution_count": 40,
      "outputs": [
        {
          "output_type": "stream",
          "name": "stdout",
          "text": [
            "Enter the number of rows for the triangle: 3\n",
            "*\n",
            "**\n",
            "***\n"
          ]
        }
      ]
    },
    {
      "cell_type": "code",
      "source": [
        "#Write a program to find the greatest common divisor (GCD) of two numbers using a `for` loop."
      ],
      "metadata": {
        "id": "Wf2homVKPLrd"
      },
      "execution_count": 41,
      "outputs": []
    },
    {
      "cell_type": "code",
      "source": [
        "# Function to find the greatest common divisor (GCD) of two numbers\n",
        "def gcd(a, b):\n",
        "    # Initialize gcd to 1\n",
        "    gcd_result = 1\n",
        "\n",
        "    # Iterate from 1 up to the smaller of the two numbers using a for loop\n",
        "    for i in range(1, min(a, b) + 1):\n",
        "        # Check if both numbers are divisible by the current value of i\n",
        "        if a % i == 0 and b % i == 0:\n",
        "            # If divisible, update gcd_result\n",
        "            gcd_result = i\n",
        "\n",
        "    return gcd_result\n",
        "\n",
        "# Input the two numbers\n",
        "num1 = int(input(\"Enter the first number: \"))\n",
        "num2 = int(input(\"Enter the second number: \"))\n",
        "\n",
        "# Call the function to find the GCD\n",
        "result = gcd(num1, num2)\n",
        "\n",
        "# Print the result\n",
        "print(\"The greatest common divisor (GCD) of\", num1, \"and\", num2, \"is:\", result)\n"
      ],
      "metadata": {
        "colab": {
          "base_uri": "https://localhost:8080/"
        },
        "id": "YuAjhMJ7PRN9",
        "outputId": "94e3b957-e5f4-4147-86df-d3a257f2739d"
      },
      "execution_count": 42,
      "outputs": [
        {
          "output_type": "stream",
          "name": "stdout",
          "text": [
            "Enter the first number: 5\n",
            "Enter the second number: 9\n",
            "The greatest common divisor (GCD) of 5 and 9 is: 1\n"
          ]
        }
      ]
    },
    {
      "cell_type": "code",
      "source": [
        "#Create a program that calculates the sum of the digits of numbers in a list using a list comprehension."
      ],
      "metadata": {
        "id": "6X-EMT3SPYZh"
      },
      "execution_count": 43,
      "outputs": []
    },
    {
      "cell_type": "code",
      "source": [
        "# Function to calculate the sum of digits of a number\n",
        "def digit_sum(number):\n",
        "    return sum(int(digit) for digit in str(number))\n",
        "\n",
        "# List of numbers\n",
        "numbers = [123, 456, 789]\n",
        "\n",
        "# Calculate the sum of digits using list comprehension\n",
        "sum_of_digits = [digit_sum(num) for num in numbers]\n",
        "\n",
        "# Print the result\n",
        "print(\"List of numbers:\", numbers)\n",
        "print(\"Sum of digits of each number:\", sum_of_digits)\n"
      ],
      "metadata": {
        "colab": {
          "base_uri": "https://localhost:8080/"
        },
        "id": "cozMMfnkPeY_",
        "outputId": "de4b79a5-77f5-4d65-b912-2ad65a298505"
      },
      "execution_count": 44,
      "outputs": [
        {
          "output_type": "stream",
          "name": "stdout",
          "text": [
            "List of numbers: [123, 456, 789]\n",
            "Sum of digits of each number: [6, 15, 24]\n"
          ]
        }
      ]
    },
    {
      "cell_type": "code",
      "source": [
        "#Write a program to find the prime factors of a given number using a `for` loop and list comprehension."
      ],
      "metadata": {
        "id": "8_0NB4ksPiq5"
      },
      "execution_count": 45,
      "outputs": []
    },
    {
      "cell_type": "code",
      "source": [
        "# Function to find prime factors of a number\n",
        "def prime_factors(num):\n",
        "    factors = []\n",
        "    for i in range(2, num + 1):\n",
        "        while num % i == 0:\n",
        "            factors.append(i)\n",
        "            num //= i\n",
        "        if num == 1:\n",
        "            break\n",
        "    return factors\n",
        "\n",
        "# Input the number\n",
        "number = int(input(\"Enter a number to find its prime factors: \"))\n",
        "\n",
        "# Find prime factors using the function\n",
        "factors = prime_factors(number)\n",
        "\n",
        "# Print the prime factors\n",
        "print(\"Prime factors of\", number, \"are:\", factors)\n"
      ],
      "metadata": {
        "colab": {
          "base_uri": "https://localhost:8080/"
        },
        "id": "NW4bxZBPPnJa",
        "outputId": "b1abbdc4-a71b-4466-f44d-6b0ea782e608"
      },
      "execution_count": 46,
      "outputs": [
        {
          "output_type": "stream",
          "name": "stdout",
          "text": [
            "Enter a number to find its prime factors: 87\n",
            "Prime factors of 87 are: [3, 29]\n"
          ]
        }
      ]
    },
    {
      "cell_type": "code",
      "source": [
        "#Develop a program that extracts unique elements from a list and stores them in a new list using a list comprehension."
      ],
      "metadata": {
        "id": "gcs5LGe2Prxv"
      },
      "execution_count": 48,
      "outputs": []
    },
    {
      "cell_type": "code",
      "source": [
        "# Original list\n",
        "original_list = [1, 2, 2, 3, 3, 4, 5, 5, 6, 7, 7]\n",
        "\n",
        "# Extract unique elements using list comprehension\n",
        "unique_elements = list(set(original_list))\n",
        "\n",
        "# Print the original list and the list containing unique elements\n",
        "print(\"Original list:\", original_list)\n",
        "print(\"Unique elements:\", unique_elements)\n"
      ],
      "metadata": {
        "colab": {
          "base_uri": "https://localhost:8080/"
        },
        "id": "ULIofm9iPwsL",
        "outputId": "f99835c1-4781-41c8-b9d0-ae530a3ea5b5"
      },
      "execution_count": 49,
      "outputs": [
        {
          "output_type": "stream",
          "name": "stdout",
          "text": [
            "Original list: [1, 2, 2, 3, 3, 4, 5, 5, 6, 7, 7]\n",
            "Unique elements: [1, 2, 3, 4, 5, 6, 7]\n"
          ]
        }
      ]
    },
    {
      "cell_type": "code",
      "source": [
        "#Create a program that generates a list of all palindromic numbers up to a specified limit using a list comprehension."
      ],
      "metadata": {
        "id": "QcTgD4YsP3Tp"
      },
      "execution_count": 50,
      "outputs": []
    },
    {
      "cell_type": "code",
      "source": [
        "# Function to check if a number is a palindrome\n",
        "def is_palindrome(num):\n",
        "    return str(num) == str(num)[::-1]\n",
        "\n",
        "# Input the limit\n",
        "limit = int(input(\"Enter the limit: \"))\n",
        "\n",
        "# Generate a list of palindromic numbers up to the limit using list comprehension\n",
        "palindromes = [num for num in range(1, limit + 1) if is_palindrome(num)]\n",
        "\n",
        "# Print the list of palindromic numbers\n",
        "print(\"Palindromic numbers up to\", limit, \"are:\", palindromes)\n"
      ],
      "metadata": {
        "colab": {
          "base_uri": "https://localhost:8080/"
        },
        "id": "yH6vewA_P92Q",
        "outputId": "39931d84-1588-4abd-f223-196f194a3bad"
      },
      "execution_count": 51,
      "outputs": [
        {
          "output_type": "stream",
          "name": "stdout",
          "text": [
            "Enter the limit: 4\n",
            "Palindromic numbers up to 4 are: [1, 2, 3, 4]\n"
          ]
        }
      ]
    },
    {
      "cell_type": "code",
      "source": [
        "#Write a program to flatten a nested list using list comprehension."
      ],
      "metadata": {
        "id": "hbK2gl7iQHeg"
      },
      "execution_count": 52,
      "outputs": []
    },
    {
      "cell_type": "code",
      "source": [
        "# Nested list\n",
        "nested_list = [[1, 2, 3], [4, 5], [6, 7, 8]]\n",
        "\n",
        "# Flatten the nested list using list comprehension\n",
        "flattened_list = [item for sublist in nested_list for item in sublist]\n",
        "\n",
        "# Print the original nested list and the flattened list\n",
        "print(\"Original nested list:\", nested_list)\n",
        "print(\"Flattened list:\", flattened_list)\n"
      ],
      "metadata": {
        "colab": {
          "base_uri": "https://localhost:8080/"
        },
        "id": "uD0cUJEnQMH0",
        "outputId": "b515d5eb-5ac0-46a4-82b7-82af0ca292bb"
      },
      "execution_count": 53,
      "outputs": [
        {
          "output_type": "stream",
          "name": "stdout",
          "text": [
            "Original nested list: [[1, 2, 3], [4, 5], [6, 7, 8]]\n",
            "Flattened list: [1, 2, 3, 4, 5, 6, 7, 8]\n"
          ]
        }
      ]
    },
    {
      "cell_type": "code",
      "source": [
        "#Develop a program that computes the sum of even and odd numbers in a list separately using list comprehension."
      ],
      "metadata": {
        "id": "Z2iw_e-rQRmP"
      },
      "execution_count": 54,
      "outputs": []
    },
    {
      "cell_type": "code",
      "source": [
        "# Sample list\n",
        "numbers = [1, 2, 3, 4, 5, 6, 7, 8, 9, 10]\n",
        "\n",
        "# Calculate the sum of even and odd numbers separately using list comprehension\n",
        "even_sum = sum(num for num in numbers if num % 2 == 0)\n",
        "odd_sum = sum(num for num in numbers if num % 2 != 0)\n",
        "\n",
        "# Print the sums\n",
        "print(\"Sum of even numbers:\", even_sum)\n",
        "print(\"Sum of odd numbers:\", odd_sum)\n"
      ],
      "metadata": {
        "colab": {
          "base_uri": "https://localhost:8080/"
        },
        "id": "K34tO11hQY5b",
        "outputId": "c835cbc4-1bec-45fe-c078-811d6dc6f0b3"
      },
      "execution_count": 55,
      "outputs": [
        {
          "output_type": "stream",
          "name": "stdout",
          "text": [
            "Sum of even numbers: 30\n",
            "Sum of odd numbers: 25\n"
          ]
        }
      ]
    },
    {
      "cell_type": "code",
      "source": [
        "#Create a program that generates a list of squares of odd numbers between 1 and 10 using list comprehension."
      ],
      "metadata": {
        "id": "dsJG0w3TQdgD"
      },
      "execution_count": 56,
      "outputs": []
    },
    {
      "cell_type": "code",
      "source": [
        "# Generate a list of squares of odd numbers between 1 and 10 using list comprehension\n",
        "squares_of_odd_numbers = [num ** 2 for num in range(1, 11) if num % 2 != 0]\n",
        "\n",
        "# Print the list of squares of odd numbers\n",
        "print(\"Squares of odd numbers between 1 and 10:\", squares_of_odd_numbers)\n"
      ],
      "metadata": {
        "colab": {
          "base_uri": "https://localhost:8080/"
        },
        "id": "KxgAmT4JQiTR",
        "outputId": "eeb9aa6b-2cf1-4798-c77a-0760dc9f6456"
      },
      "execution_count": 57,
      "outputs": [
        {
          "output_type": "stream",
          "name": "stdout",
          "text": [
            "Squares of odd numbers between 1 and 10: [1, 9, 25, 49, 81]\n"
          ]
        }
      ]
    },
    {
      "cell_type": "code",
      "source": [
        "#Write a program that combines two lists into a dictionary using list comprehension."
      ],
      "metadata": {
        "id": "h0bSoyg7Qmzl"
      },
      "execution_count": 58,
      "outputs": []
    },
    {
      "cell_type": "code",
      "source": [
        "# Two lists\n",
        "keys = ['a', 'b', 'c']\n",
        "values = [1, 2, 3]\n",
        "\n",
        "# Combine the lists into a dictionary using list comprehension\n",
        "combined_dict = {keys[i]: values[i] for i in range(min(len(keys), len(values)))}\n",
        "\n",
        "# Print the combined dictionary\n",
        "print(\"Combined dictionary:\", combined_dict)\n"
      ],
      "metadata": {
        "colab": {
          "base_uri": "https://localhost:8080/"
        },
        "id": "FbsxTXHVQrfe",
        "outputId": "f0846713-8998-42fa-c462-4df687b25760"
      },
      "execution_count": 59,
      "outputs": [
        {
          "output_type": "stream",
          "name": "stdout",
          "text": [
            "Combined dictionary: {'a': 1, 'b': 2, 'c': 3}\n"
          ]
        }
      ]
    },
    {
      "cell_type": "code",
      "source": [
        "#Develop a program that extracts the vowels from a string and stores them in a list using list comprehension."
      ],
      "metadata": {
        "id": "JBYAvv5FQwNy"
      },
      "execution_count": 60,
      "outputs": []
    },
    {
      "cell_type": "code",
      "source": [
        "# Input string\n",
        "input_string = input(\"Enter a string: \")\n",
        "\n",
        "# Extract vowels using list comprehension\n",
        "vowels = [char for char in input_string if char.lower() in 'aeiou']\n",
        "\n",
        "# Print the list of vowels\n",
        "print(\"Vowels in the string:\", vowels)\n"
      ],
      "metadata": {
        "colab": {
          "base_uri": "https://localhost:8080/"
        },
        "id": "l56a6n5uQ0I2",
        "outputId": "46135e4b-6cf5-41ef-92b8-0573cf041e51"
      },
      "execution_count": 61,
      "outputs": [
        {
          "output_type": "stream",
          "name": "stdout",
          "text": [
            "Enter a string: jai ho\n",
            "Vowels in the string: ['a', 'i', 'o']\n"
          ]
        }
      ]
    },
    {
      "cell_type": "code",
      "source": [
        "#Create a program that removes all non-numeric characters from a list of strings using list comprehension."
      ],
      "metadata": {
        "id": "tUE04xbDQ5AE"
      },
      "execution_count": 62,
      "outputs": []
    },
    {
      "cell_type": "code",
      "source": [
        "# List of strings\n",
        "strings_list = ['abc123', '456def', 'ghi789', '10jkl']\n",
        "\n",
        "# Remove non-numeric characters using list comprehension\n",
        "numeric_strings = [''.join(char for char in string if char.isdigit()) for string in strings_list]\n",
        "\n",
        "# Print the list of numeric strings\n",
        "print(\"List of numeric strings:\", numeric_strings)\n"
      ],
      "metadata": {
        "colab": {
          "base_uri": "https://localhost:8080/"
        },
        "id": "9XVCwUngRBW5",
        "outputId": "0e66591f-2d33-4e0a-8dd5-3fbbd88e7a0b"
      },
      "execution_count": 63,
      "outputs": [
        {
          "output_type": "stream",
          "name": "stdout",
          "text": [
            "List of numeric strings: ['123', '456', '789', '10']\n"
          ]
        }
      ]
    },
    {
      "cell_type": "code",
      "source": [
        "#Write a program to generate a list of prime numbers using the Sieve of Eratosthenes algorithm and list comprehension."
      ],
      "metadata": {
        "id": "q1RU5gpHRFj5"
      },
      "execution_count": 64,
      "outputs": []
    },
    {
      "cell_type": "code",
      "source": [
        "def sieve_of_eratosthenes(limit):\n",
        "    sieve = [True] * (limit + 1)\n",
        "    sieve[0] = sieve[1] = False\n",
        "\n",
        "    for i in range(2, int(limit ** 0.5) + 1):\n",
        "        if sieve[i]:\n",
        "            sieve[i*i:limit+1:i] = [False] * len(range(i*i, limit+1, i))\n",
        "\n",
        "    return [num for num in range(2, limit + 1) if sieve[num]]\n",
        "\n",
        "# Input the limit\n",
        "limit = int(input(\"Enter the limit to generate prime numbers up to: \"))\n",
        "\n",
        "# Generate prime numbers using Sieve of Eratosthenes algorithm\n",
        "prime_numbers = sieve_of_eratosthenes(limit)\n",
        "\n",
        "# Print the list of prime\n"
      ],
      "metadata": {
        "colab": {
          "base_uri": "https://localhost:8080/"
        },
        "id": "TIrCJvIzRLqR",
        "outputId": "a822c947-218b-4b32-d3c2-52d5fa5eafd2"
      },
      "execution_count": 65,
      "outputs": [
        {
          "name": "stdout",
          "output_type": "stream",
          "text": [
            "Enter the limit to generate prime numbers up to: 84\n"
          ]
        }
      ]
    },
    {
      "cell_type": "code",
      "source": [
        "#Create a program that generates a list of all Pythagorean triplets up to a specified limit using list comprehension."
      ],
      "metadata": {
        "id": "us0htj1kRQBv"
      },
      "execution_count": 66,
      "outputs": []
    },
    {
      "cell_type": "code",
      "source": [
        "# Function to generate Pythagorean triplets up to a specified limit\n",
        "def pythagorean_triplets(limit):\n",
        "    return [(a, b, c) for a in range(1, limit+1)\n",
        "                      for b in range(a, limit+1)\n",
        "                      for c in range(b, limit+1)\n",
        "                      if a**2 + b**2 == c**2]\n",
        "\n",
        "# Input the limit\n",
        "limit = int(input(\"Enter the limit to generate Pythagorean triplets up to: \"))\n",
        "\n",
        "# Generate Pythagorean triplets using list comprehension\n",
        "triplets = pythagorean_triplets(limit)\n",
        "\n",
        "# Print the list of Pythagorean triplets\n",
        "print(\"Pythagorean triplets up to\", limit, \":\", triplets)\n"
      ],
      "metadata": {
        "colab": {
          "base_uri": "https://localhost:8080/"
        },
        "id": "Exw88h5aRZxJ",
        "outputId": "93885752-566f-4b33-ccaa-106c8a8bda77"
      },
      "execution_count": 67,
      "outputs": [
        {
          "output_type": "stream",
          "name": "stdout",
          "text": [
            "Enter the limit to generate Pythagorean triplets up to: 6\n",
            "Pythagorean triplets up to 6 : [(3, 4, 5)]\n"
          ]
        }
      ]
    },
    {
      "cell_type": "code",
      "source": [
        "# Develop a program that generates a list of all possible combinations of two lists using list comprehension."
      ],
      "metadata": {
        "id": "14kNaOuHRlAB"
      },
      "execution_count": 68,
      "outputs": []
    },
    {
      "cell_type": "code",
      "source": [
        "# Two lists\n",
        "list1 = [1, 2, 3]\n",
        "list2 = ['a', 'b', 'c']\n",
        "\n",
        "# Generate all possible combinations using list comprehension\n",
        "combinations = [(x, y) for x in list1 for y in list2]\n",
        "\n",
        "# Print the list of combinations\n",
        "print(\"All possible combinations of the two lists:\")\n",
        "print(combinations)\n"
      ],
      "metadata": {
        "colab": {
          "base_uri": "https://localhost:8080/"
        },
        "id": "MVsgbcyaZadY",
        "outputId": "5964835d-2981-41f7-ff46-e26cbf2220e1"
      },
      "execution_count": 69,
      "outputs": [
        {
          "output_type": "stream",
          "name": "stdout",
          "text": [
            "All possible combinations of the two lists:\n",
            "[(1, 'a'), (1, 'b'), (1, 'c'), (2, 'a'), (2, 'b'), (2, 'c'), (3, 'a'), (3, 'b'), (3, 'c')]\n"
          ]
        }
      ]
    },
    {
      "cell_type": "code",
      "source": [
        "#Write a program that calculates the mean, median, and mode of a list of numbers using list comprehension."
      ],
      "metadata": {
        "id": "eBUsQ_MQZbnE"
      },
      "execution_count": 70,
      "outputs": []
    },
    {
      "cell_type": "code",
      "source": [
        "from collections import Counter\n",
        "import statistics\n",
        "\n",
        "# Sample list of numbers\n",
        "numbers = [1, 2, 3, 4, 5, 5, 6, 6, 7, 8, 9, 10]\n",
        "\n",
        "# Calculate mean using list comprehension\n",
        "mean = sum(numbers) / len(numbers)\n",
        "\n",
        "# Calculate median using list comprehension (sorted list)\n",
        "sorted_numbers = sorted(numbers)\n",
        "median_index = len(sorted_numbers) // 2\n",
        "median = (sorted_numbers[median_index] + sorted_numbers[~median_index]) / 2\n",
        "\n",
        "# Calculate mode using Counter and list comprehension\n",
        "mode = Counter(numbers).most_common(1)[0][0]\n",
        "\n",
        "# Print the mean, median, and mode\n",
        "print(\"Mean:\", mean)\n",
        "print(\"Median:\", median)\n",
        "print(\"Mode:\", mode)\n"
      ],
      "metadata": {
        "colab": {
          "base_uri": "https://localhost:8080/"
        },
        "id": "DpmXb2hDZhdw",
        "outputId": "52b3c90f-f55f-41b2-ec86-6ec46f091a55"
      },
      "execution_count": 71,
      "outputs": [
        {
          "output_type": "stream",
          "name": "stdout",
          "text": [
            "Mean: 5.5\n",
            "Median: 5.5\n",
            "Mode: 5\n"
          ]
        }
      ]
    },
    {
      "cell_type": "code",
      "source": [
        "#Create a program that generates Pascal's triangle up to a specified number of rows using list comprehension."
      ],
      "metadata": {
        "id": "YRIQZ_66ZvNw"
      },
      "execution_count": 72,
      "outputs": []
    },
    {
      "cell_type": "code",
      "source": [
        "def generate_pascals_triangle(rows):\n",
        "    if rows == 0:\n",
        "        return []\n",
        "    elif rows == 1:\n",
        "        return [[1]]\n",
        "    else:\n",
        "        triangle = generate_pascals_triangle(rows - 1)\n",
        "        last_row = triangle[-1]\n",
        "        new_row = [1] + [last_row[i] + last_row[i + 1] for i in range(len(last_row) - 1)] + [1]\n",
        "        return triangle + [new_row]\n",
        "\n",
        "def print_pascals_triangle(triangle):\n",
        "    for row in triangle:\n",
        "        print(\" \".join(map(str, row)).center(len(triangle[-1]) * 3))\n",
        "\n",
        "# Input the number of rows for Pascal's triangle\n",
        "num_rows = int(input(\"Enter the number of rows for Pascal's triangle: \"))\n",
        "\n",
        "# Generate Pascal's triangle\n",
        "triangle = generate_pascals_triangle(num_rows)\n",
        "\n",
        "# Print Pascal's triangle\n",
        "print(\"Pascal's triangle:\")\n",
        "print_pascals_triangle(triangle)\n"
      ],
      "metadata": {
        "id": "A7Ppc8XSZ0sa",
        "outputId": "fb1b74a2-a5f7-49f4-da37-af93409ed6af",
        "colab": {
          "base_uri": "https://localhost:8080/"
        }
      },
      "execution_count": 73,
      "outputs": [
        {
          "output_type": "stream",
          "name": "stdout",
          "text": [
            "Enter the number of rows for Pascal's triangle: 5\n",
            "Pascal's triangle:\n",
            "       1       \n",
            "      1 1      \n",
            "     1 2 1     \n",
            "    1 3 3 1    \n",
            "   1 4 6 4 1   \n"
          ]
        }
      ]
    },
    {
      "cell_type": "code",
      "source": [
        "#Develop a program that calculates the sum of the digits of a factorial of numbers from 1 to 5 using list comprehension."
      ],
      "metadata": {
        "id": "euR2fPhQZ8mo"
      },
      "execution_count": 75,
      "outputs": []
    },
    {
      "cell_type": "code",
      "source": [
        "# Function to calculate factorial of a number\n",
        "def factorial(n):\n",
        "    if n == 0:\n",
        "        return 1\n",
        "    else:\n",
        "        return n * factorial(n - 1)\n",
        "\n",
        "# List comprehension to calculate factorial of numbers from 1 to 5 and sum their digits\n",
        "sum_of_digits = [sum(int(digit) for digit in str(factorial(num))) for num in range(1, 6)]\n",
        "\n",
        "# Print the result\n",
        "print(\"Sum of digits of factorials from 1 to 5:\", sum_of_digits)\n"
      ],
      "metadata": {
        "id": "vnvonrataEOm",
        "outputId": "8a39a0d8-49b9-4610-9ccb-0d0cc14047b9",
        "colab": {
          "base_uri": "https://localhost:8080/"
        }
      },
      "execution_count": 76,
      "outputs": [
        {
          "output_type": "stream",
          "name": "stdout",
          "text": [
            "Sum of digits of factorials from 1 to 5: [1, 2, 6, 6, 3]\n"
          ]
        }
      ]
    },
    {
      "cell_type": "code",
      "source": [
        "# Write a program that finds the longest word in a sentence using list comprehension."
      ],
      "metadata": {
        "id": "ETxq9oE3aPSf"
      },
      "execution_count": 77,
      "outputs": []
    },
    {
      "cell_type": "code",
      "source": [
        "# Input sentence\n",
        "sentence = input(\"Enter a sentence: \")\n",
        "\n",
        "# Extract words from the sentence using split() function\n",
        "words = sentence.split()\n",
        "\n",
        "# Find the longest word using list comprehension\n",
        "longest_word = max(words, key=len)\n",
        "\n",
        "# Print the longest word\n",
        "print(\"Longest word in the sentence:\", longest_word)\n"
      ],
      "metadata": {
        "id": "tkttVhD1aVjB",
        "outputId": "92dd07ff-6211-4208-bd8a-3d4b8caee5ec",
        "colab": {
          "base_uri": "https://localhost:8080/"
        }
      },
      "execution_count": 78,
      "outputs": [
        {
          "output_type": "stream",
          "name": "stdout",
          "text": [
            "Enter a sentence: my name is khan\n",
            "Longest word in the sentence: name\n"
          ]
        }
      ]
    },
    {
      "cell_type": "code",
      "source": [
        "#Create a program that filters a list of strings to include only those with more than three vowels using list comprehension."
      ],
      "metadata": {
        "id": "7x5J4z5PaeF-"
      },
      "execution_count": 80,
      "outputs": []
    },
    {
      "cell_type": "code",
      "source": [
        "# Function to count vowels in a string\n",
        "def count_vowels(string):\n",
        "    return sum(1 for char in string if char.lower() in 'aeiou')\n",
        "\n",
        "# Sample list of strings\n",
        "strings_list = ['apple', 'banana', 'orange', 'kiwi', 'grapefruit', 'watermelon']\n",
        "\n",
        "# Filter strings with more than three vowels using list comprehension\n",
        "filtered_strings = [string for string in strings_list if count_vowels(string) > 3]\n",
        "\n",
        "# Print the filtered list of strings\n",
        "print(\"List of strings with more than three vowels:\", filtered_strings)\n"
      ],
      "metadata": {
        "id": "ybGo_gG5awUZ",
        "outputId": "424d8fab-9524-43ab-eac7-a2e3a04df853",
        "colab": {
          "base_uri": "https://localhost:8080/"
        }
      },
      "execution_count": 81,
      "outputs": [
        {
          "output_type": "stream",
          "name": "stdout",
          "text": [
            "List of strings with more than three vowels: ['grapefruit', 'watermelon']\n"
          ]
        }
      ]
    },
    {
      "cell_type": "code",
      "source": [
        "#Develop a program that calculates the sum of the digits of numbers from 1 to 1000 using list comprehension."
      ],
      "metadata": {
        "id": "rSuEsyQCa58o"
      },
      "execution_count": 82,
      "outputs": []
    },
    {
      "cell_type": "code",
      "source": [
        "# Function to calculate the sum of digits of a number\n",
        "def digit_sum(number):\n",
        "    return sum(int(digit) for digit in str(number))\n",
        "\n",
        "# Calculate the sum of digits for numbers from 1 to 1000 using list comprehension\n",
        "sum_of_digits = sum(digit_sum(num) for num in range(1, 1001))\n",
        "\n",
        "# Print the result\n",
        "print(\"Sum of digits of numbers from 1 to 1000:\", sum_of_digits)\n"
      ],
      "metadata": {
        "id": "5uggNMfYbYUR",
        "outputId": "01a915e1-5fd8-4a5d-f298-5430b35f4c34",
        "colab": {
          "base_uri": "https://localhost:8080/"
        }
      },
      "execution_count": 83,
      "outputs": [
        {
          "output_type": "stream",
          "name": "stdout",
          "text": [
            "Sum of digits of numbers from 1 to 1000: 13501\n"
          ]
        }
      ]
    },
    {
      "cell_type": "code",
      "source": [
        "#Write a program that generates a list of prime palindromic numbers using list comprehension."
      ],
      "metadata": {
        "id": "oYZ3o0Lpbdib"
      },
      "execution_count": 84,
      "outputs": []
    },
    {
      "cell_type": "code",
      "source": [
        "def is_prime(num):\n",
        "    if num < 2:\n",
        "        return False\n",
        "    for i in range(2, int(num**0.5) + 1):\n",
        "        if num % i == 0:\n",
        "            return False\n",
        "    return True\n",
        "\n",
        "def is_palindromic(num):\n",
        "    return str(num) == str(num)[::-1]\n",
        "\n",
        "# Generate list of prime palindromic numbers using list comprehension\n",
        "prime_palindromic_numbers = [num for num in range(2, 1000) if is_prime(num) and is_palindromic(num)]\n",
        "\n",
        "# Print the list of prime palindromic numbers\n",
        "print(\"Prime palindromic numbers:\", prime_palindromic_numbers)\n",
        "\n"
      ],
      "metadata": {
        "id": "cfYILobbbi7v",
        "outputId": "156171fb-d145-423f-fbc1-0d249d7dc7b8",
        "colab": {
          "base_uri": "https://localhost:8080/"
        }
      },
      "execution_count": 85,
      "outputs": [
        {
          "output_type": "stream",
          "name": "stdout",
          "text": [
            "Prime palindromic numbers: [2, 3, 5, 7, 11, 101, 131, 151, 181, 191, 313, 353, 373, 383, 727, 757, 787, 797, 919, 929]\n"
          ]
        }
      ]
    },
    {
      "cell_type": "code",
      "source": [],
      "metadata": {
        "id": "NbrpiROfcLpD"
      },
      "execution_count": null,
      "outputs": []
    }
  ]
}